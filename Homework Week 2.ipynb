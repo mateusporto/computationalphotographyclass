{
 "cells": [
  {
   "cell_type": "markdown",
   "metadata": {},
   "source": [
    "**Homework Week 2**\n",
    "\n",
    "*Computational Photography*\n",
    "\n",
    "This assignment is mostly about practicing manipulating numbers and strings in python. It ends with backing an algorithm out of code.\n"
   ]
  },
  {
   "cell_type": "markdown",
   "metadata": {},
   "source": [
    "Write code that when you run the cell generates a tic-tac-toe board\n",
    "Expected output:\n",
    "\n",
    "```\n",
    "  |  |  \n",
    "--------\n",
    "  |  |  \n",
    "--------\n",
    "  |  |  \n",
    "  \n",
    "```\n",
    "\n",
    "First just use print statements"
   ]
  },
  {
   "cell_type": "code",
   "execution_count": 1,
   "metadata": {
    "collapsed": false
   },
   "outputs": [
    {
     "name": "stdout",
     "output_type": "stream",
     "text": [
      "  |  |  \n",
      "--------\n"
     ]
    }
   ],
   "source": [
    "print('  |  |  ')\n",
    "print('--------')"
   ]
  },
  {
   "cell_type": "markdown",
   "metadata": {},
   "source": [
    "Now do it using variables"
   ]
  },
  {
   "cell_type": "code",
   "execution_count": 2,
   "metadata": {
    "collapsed": false
   },
   "outputs": [
    {
     "name": "stdout",
     "output_type": "stream",
     "text": [
      "3\n"
     ]
    }
   ],
   "source": [
    "print(1 | 2 | 3)"
   ]
  },
  {
   "cell_type": "markdown",
   "metadata": {},
   "source": [
    "Starting with x and y as defined, write code to print the larger number"
   ]
  },
  {
   "cell_type": "code",
   "execution_count": 1,
   "metadata": {
    "collapsed": false
   },
   "outputs": [
    {
     "name": "stdout",
     "output_type": "stream",
     "text": [
      "x\n"
     ]
    }
   ],
   "source": [
    "x = 54\n",
    "y = 23\n",
    "\n",
    "print(\"x\")\n"
   ]
  },
  {
   "cell_type": "markdown",
   "metadata": {},
   "source": [
    "Starting with x, y, and z as defined, write code to print the largest number"
   ]
  },
  {
   "cell_type": "code",
   "execution_count": 3,
   "metadata": {
    "collapsed": false
   },
   "outputs": [
    {
     "name": "stdout",
     "output_type": "stream",
     "text": [
      "y\n"
     ]
    }
   ],
   "source": [
    "x = -54\n",
    "y = 23\n",
    "z = 4\n",
    "\n",
    "print(\"y\")\n"
   ]
  },
  {
   "cell_type": "raw",
   "metadata": {},
   "source": [
    "Write a vowel recognizer"
   ]
  },
  {
   "cell_type": "code",
   "execution_count": null,
   "metadata": {
    "collapsed": true
   },
   "outputs": [],
   "source": [
    "char_in = input(\"Enter a character (be sure it is in quotes)\")\n",
    "char_in = input(\"Y\")\n"
   ]
  },
  {
   "cell_type": "code",
   "execution_count": 4,
   "metadata": {
    "collapsed": false
   },
   "outputs": [
    {
     "name": "stdout",
     "output_type": "stream",
     "text": [
      "Y3\n"
     ]
    }
   ],
   "source": [
    "char_in = input(\"Y\")"
   ]
  },
  {
   "cell_type": "markdown",
   "metadata": {},
   "source": [
    "Turn the following code into English\n"
   ]
  },
  {
   "cell_type": "code",
   "execution_count": 8,
   "metadata": {
    "collapsed": false
   },
   "outputs": [
    {
     "name": "stdout",
     "output_type": "stream",
     "text": [
      "y1\n",
      "t\n"
     ]
    }
   ],
   "source": [
    "import random\n",
    "a = random.choice(range(1,11))\n",
    "b = 0\n",
    "while (a != b):\n",
    "    b = int(input(\"y\"))\n",
    "    if abs(a-b) > 4:\n",
    "        print (\"x\")\n",
    "    elif abs(a-b) > 2:\n",
    "        print (\"z\")\n",
    "    elif abs(a-b)>0:\n",
    "        print (\"r\")\n",
    "    else:\n",
    "        print (\"t\")\n"
   ]
  },
  {
   "cell_type": "markdown",
   "metadata": {},
   "source": [
    "## Now modify it into readable code. Be sure to make variables for all the numbers"
   ]
  },
  {
   "cell_type": "code",
   "execution_count": 13,
   "metadata": {
    "collapsed": false
   },
   "outputs": [
    {
     "name": "stdout",
     "output_type": "stream",
     "text": [
      "i've picked a number between 1 and 10, what do you think it is?4\n",
      "z\n",
      "i've picked a number between 1 and 10, what do you think it is?6\n",
      "x\n",
      "i've picked a number between 1 and 10, what do you think it is?2\n",
      "r\n",
      "i've picked a number between 1 and 10, what do you think it is?1\n",
      "t\n"
     ]
    }
   ],
   "source": [
    "import random\n",
    "a = random.choice(range(1,11))\n",
    "b = 0\n",
    "while (a != b):\n",
    "    b = int(input(\"i've picked a number between 1 and 10, what do you think it is?\"))\n",
    "    if abs(a-b) > 4:\n",
    "        print (\"x\")\n",
    "    elif abs(a-b) > 2:\n",
    "        print (\"z\")\n",
    "    elif abs(a-b)>0:\n",
    "        print (\"r\")\n",
    "    else:\n",
    "        print (\"t\")"
   ]
  },
  {
   "cell_type": "markdown",
   "metadata": {},
   "source": [
    "### Write an algorithm to print the lyrics to \"99 Bottles of Beer on the Wall\"\n",
    "99 bottles of beer on the wall, 99 bottles of beer.\n",
    "Take one down, pass it around, 98 bottles of beer on the wall.\n",
    "98 bottles of beer on the wall, 98 bottles of beer.\n",
    "Take one down, pass it around, 97 bottles of beer on the wall.\n",
    "...\n",
    "no more bottles of beer on the wall.\n"
   ]
  },
  {
   "cell_type": "code",
   "execution_count": 12,
   "metadata": {
    "collapsed": false
   },
   "outputs": [
    {
     "name": "stdout",
     "output_type": "stream",
     "text": [
      "99 bottles of beer on the wall, 99 bottles of beer. Take one down, pass it around, 98 bottles of beer on the wall. 98 bottles of beer on the wall, 98 bottles of beer. Take one down, pass it around, 97 bottles of beer on the wall. ... no more bottles of beer on the wall.\n"
     ]
    }
   ],
   "source": [
    "print (\"99 bottles of beer on the wall, 99 bottles of beer. Take one down, pass it around, 98 bottles of beer on the wall. 98 bottles of beer on the wall, 98 bottles of beer. Take one down, pass it around, 97 bottles of beer on the wall. ... no more bottles of beer on the wall.\")"
   ]
  },
  {
   "cell_type": "markdown",
   "metadata": {},
   "source": [
    "For the brave, implement your algorithm in Python"
   ]
  },
  {
   "cell_type": "code",
   "execution_count": null,
   "metadata": {
    "collapsed": true
   },
   "outputs": [],
   "source": []
  }
 ],
 "metadata": {
  "kernelspec": {
   "display_name": "Python 3",
   "language": "python",
   "name": "python3"
  },
  "language_info": {
   "codemirror_mode": {
    "name": "ipython",
    "version": 3
   },
   "file_extension": ".py",
   "mimetype": "text/x-python",
   "name": "python",
   "nbconvert_exporter": "python",
   "pygments_lexer": "ipython3",
   "version": "3.5.1"
  }
 },
 "nbformat": 4,
 "nbformat_minor": 0
}
