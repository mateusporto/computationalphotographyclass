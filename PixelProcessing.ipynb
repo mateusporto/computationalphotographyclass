{
 "cells": [
  {
   "cell_type": "code",
   "execution_count": 1,
   "metadata": {
    "collapsed": true
   },
   "outputs": [],
   "source": [
    "from PIL import Image\n",
    "import random, sys\n",
    "sys.setrecursionlimit(10000) #Increase the recursion depth limit. Without this, the script fails on larger images because quicksort recurses too much.\n"
   ]
  },
  {
   "cell_type": "code",
   "execution_count": 2,
   "metadata": {
    "collapsed": true
   },
   "outputs": [],
   "source": [
    "def quick_sort(pixels):\n",
    "    #Quicksort function that sorts pixels based on combined RGB values (R + B + G)\n",
    "    if pixels == []:\n",
    "        return pixels\n",
    "\n",
    "    else:\n",
    "        pivot = pixels[0]\n",
    "        lesser = quick_sort([x for x in pixels[1:] if (x[0] + x[1] + x[2]) < (pivot[0] + pivot[1] + pivot[2])])\n",
    "        greater = quick_sort([x for x in pixels[1:] if (x[0] + x[1] + x[2]) >= (pivot[0] + pivot[1] + pivot[2])])\n",
    "        return lesser + [pivot] + greater\n",
    "\n",
    "\n"
   ]
  },
  {
   "cell_type": "code",
   "execution_count": 3,
   "metadata": {
    "collapsed": false
   },
   "outputs": [],
   "source": [
    "def pixel_processor(img, pixel_function):\n",
    "    \"\"\"receives a PIL Image called img, \n",
    "        processes all pixels in img using pixel_function,\n",
    "        returns a new PIL image\"\"\"\n",
    "    \n",
    "    print(\"convert img to RGBA mode\")\n",
    "    img = img.convert('RGBA')\n",
    "    \n",
    "    print(\"Get data...\")\n",
    "    data = img.load()\n",
    "    \n",
    "    print(\"Create return image\")\n",
    "    new = Image.new('RGBA', img.size)\n",
    "\n",
    "    pixels = []\n",
    "    \n",
    "    print(\"Getting pixels...\")\n",
    "    #Load all of the pixels into the pixels list\n",
    "    for y in range(img.size[1]):\n",
    "        pixels.append([])\n",
    "        for x in range(img.size[0]):\n",
    "            pixels[y].append(data[x, y])\n",
    "\n",
    "    print(\"Processing pixels...\")\n",
    "    sorted_pixels = pixel_function(pixels, img.size)\n",
    "\n",
    "    print(\"Placing pixels...\")\n",
    "    for y in range(img.size[1]):\n",
    "        for x in range(img.size[0]):\n",
    "            new.putpixel((x, y), sorted_pixels[y][x]) #apply the pixels to the new image\n",
    "\n",
    "    print(\"Returning image...\")\n",
    "    return(new)\n",
    "\n",
    "\n"
   ]
  },
  {
   "cell_type": "code",
   "execution_count": 4,
   "metadata": {
    "collapsed": true
   },
   "outputs": [],
   "source": [
    "def copy_pixels(pixel_array, size):\n",
    "    \"\"\"Simple row by row copy of pixel_array\"\"\"\n",
    "    \n",
    "    return_pixels = []\n",
    "    for row in range(size[1]):\n",
    "        return_pixels.append(pixel_array[row])\n",
    "        \n",
    "    return(return_pixels)"
   ]
  },
  {
   "cell_type": "code",
   "execution_count": null,
   "metadata": {
    "collapsed": true
   },
   "outputs": [],
   "source": []
  },
  {
   "cell_type": "code",
   "execution_count": 22,
   "metadata": {
    "collapsed": false
   },
   "outputs": [],
   "source": [
    "# line by line rotate pixels \n",
    "# initially use midpoint \n",
    "\n",
    "def rotate_all_rows(pixel_array, size):\n",
    "\n",
    "    divide_point = int(random.randint(5,size[0]))\n",
    "    print(\"rotating around\", str(divide_point))\n",
    "    return_pixels = []\n",
    "    for row in range (size[1]): \n",
    "        return_pixels.append(pixel_array[row][divide_point:] + pixel_array[row][mid_point:])\n",
    "        \n",
    "    return(return_pixels)"
   ]
  },
  {
   "cell_type": "code",
   "execution_count": 29,
   "metadata": {
    "collapsed": true
   },
   "outputs": [],
   "source": [
    "# line by line rotate pixels \n",
    "# along a diagonal\n",
    "\n",
    "def rotate_all_rows_on_diag(pixel_array, size):\n",
    "\n",
    "    \n",
    "    return_pixels = []\n",
    "    for row in range (size[1]): \n",
    "        divide_point = row\n",
    "        return_pixels.append(pixel_array[row][divide_point:] + pixel_array[row][:divide_point])\n",
    "        \n",
    "    return(return_pixels)"
   ]
  },
  {
   "cell_type": "code",
   "execution_count": 37,
   "metadata": {
    "collapsed": false
   },
   "outputs": [
    {
     "ename": "SyntaxError",
     "evalue": "invalid syntax (<ipython-input-37-9fc78f2a0196>, line 6)",
     "output_type": "error",
     "traceback": [
      "\u001b[0;36m  File \u001b[0;32m\"<ipython-input-37-9fc78f2a0196>\"\u001b[0;36m, line \u001b[0;32m6\u001b[0m\n\u001b[0;31m    for rows in range(size[1])\u001b[0m\n\u001b[0m                              ^\u001b[0m\n\u001b[0;31mSyntaxError\u001b[0m\u001b[0;31m:\u001b[0m invalid syntax\n"
     ]
    }
   ],
   "source": [
    "# line by line sort pixels by brightness\n",
    "# along a diagonal \n",
    "\n",
    "def sort_all_pixels_by_row(pixel_array, size):\n",
    "    return_pixels = []\n",
    "    for rows in range(size[1])\n",
    "        return_pixels.append(quick_sort(pixel_array[row] ))\n",
    "        \n",
    "    return(return_pixels)"
   ]
  },
  {
   "cell_type": "code",
   "execution_count": 42,
   "metadata": {
    "collapsed": false
   },
   "outputs": [],
   "source": [
    "def swap_colors(pixel_array, size):\n",
    "    \"\"\"Simple row by row copy of pixel_array\"\"\"\n",
    "    \n",
    "    return_pixels = []\n",
    "    for row in range(size[1]):\n",
    "        new_row = []\n",
    "        for col in range(size[0]):\n",
    "            new_pixel = (pixel_array[row][col][1],pixel_array[row][col][2],pixel_array[row][col][0])\n",
    "            new_row.append(new_pixel)\n",
    "        return_pixels.append(new_row)\n",
    "                    \n",
    "    return(return_pixels)"
   ]
  },
  {
   "cell_type": "code",
   "execution_count": 43,
   "metadata": {
    "collapsed": false
   },
   "outputs": [
    {
     "name": "stdout",
     "output_type": "stream",
     "text": [
      "convert img to RGBA mode\n",
      "Get data...\n",
      "Create return image\n",
      "Getting pixels...\n",
      "Processing pixels...\n",
      "Placing pixels...\n",
      "Returning image...\n"
     ]
    }
   ],
   "source": [
    "#milkmaid = Image.open(\"images/milkmaidfull.jpg\")\n",
    "\n",
    "milkmaid = Image.open(\"images/milkmaid.jpg\")\n",
    "#pixel_processor(milkmaid, copy_pixels).show()\n",
    "#pixel_processor(milkmaid, rotate_all_rows).show()\n",
    "#pixel_processor(milkmaid, rotate_all_rows_on_diag).show()\n",
    "#pixel_processor(milkmaid, rotate_all_rows_on_diag).show()\n",
    "#pixel_processor(milkmaid, sort_pixels_random).show()\n",
    "pixel_processor(milkmaid, swap_colors).show()"
   ]
  },
  {
   "cell_type": "code",
   "execution_count": null,
   "metadata": {
    "collapsed": true
   },
   "outputs": [],
   "source": []
  },
  {
   "cell_type": "code",
   "execution_count": 7,
   "metadata": {
    "collapsed": false
   },
   "outputs": [
    {
     "ename": "SyntaxError",
     "evalue": "invalid syntax (<ipython-input-7-2563a865576c>, line 4)",
     "output_type": "error",
     "traceback": [
      "\u001b[0;36m  File \u001b[0;32m\"<ipython-input-7-2563a865576c>\"\u001b[0;36m, line \u001b[0;32m4\u001b[0m\n\u001b[0;31m    def rotate_all_rows(pixel_array, size)\u001b[0m\n\u001b[0m                                          ^\u001b[0m\n\u001b[0;31mSyntaxError\u001b[0m\u001b[0;31m:\u001b[0m invalid syntax\n"
     ]
    }
   ],
   "source": []
  },
  {
   "cell_type": "code",
   "execution_count": null,
   "metadata": {
    "collapsed": true
   },
   "outputs": [],
   "source": []
  }
 ],
 "metadata": {
  "kernelspec": {
   "display_name": "Python 3",
   "language": "python",
   "name": "python3"
  },
  "language_info": {
   "codemirror_mode": {
    "name": "ipython",
    "version": 3
   },
   "file_extension": ".py",
   "mimetype": "text/x-python",
   "name": "python",
   "nbconvert_exporter": "python",
   "pygments_lexer": "ipython3",
   "version": "3.5.1"
  }
 },
 "nbformat": 4,
 "nbformat_minor": 0
}
